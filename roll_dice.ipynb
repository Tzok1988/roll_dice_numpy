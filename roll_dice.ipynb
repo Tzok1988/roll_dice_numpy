{
 "cells": [
  {
   "cell_type": "code",
   "execution_count": 1,
   "id": "722b31bd",
   "metadata": {},
   "outputs": [
    {
     "name": "stdout",
     "output_type": "stream",
     "text": [
      "Roll:  6 & 4\n"
     ]
    }
   ],
   "source": [
    "# roll dice program\n",
    "# function def\n",
    "import numpy as np\n",
    "def roll_dice():\n",
    "    '''This function displays the dice values when called'''\n",
    "dice1 = np.random.randint(1,7) # With this statement we get values from 1 to 6\n",
    "dice2 = np.random.randint(1,7)\n",
    "\n",
    "# We check if they are duplicates\n",
    "if dice1 == dice2:\n",
    "    print('Roll: ', dice1, '&' ,dice2, '\\n Duplicates!')\n",
    "else:\n",
    "    print('Roll: ',dice1, '&' , dice2)\n",
    "    \n",
    "#call the function\n",
    "\n",
    "roll_dice()"
   ]
  },
  {
   "cell_type": "code",
   "execution_count": null,
   "id": "6c56157c",
   "metadata": {},
   "outputs": [],
   "source": []
  },
  {
   "cell_type": "code",
   "execution_count": null,
   "id": "1322680b",
   "metadata": {},
   "outputs": [],
   "source": []
  }
 ],
 "metadata": {
  "kernelspec": {
   "display_name": "Python 3 (ipykernel)",
   "language": "python",
   "name": "python3"
  },
  "language_info": {
   "codemirror_mode": {
    "name": "ipython",
    "version": 3
   },
   "file_extension": ".py",
   "mimetype": "text/x-python",
   "name": "python",
   "nbconvert_exporter": "python",
   "pygments_lexer": "ipython3",
   "version": "3.9.12"
  }
 },
 "nbformat": 4,
 "nbformat_minor": 5
}
